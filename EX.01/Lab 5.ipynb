{
 "cells": [
  {
   "cell_type": "code",
   "execution_count": null,
   "metadata": {},
   "outputs": [],
   "source": [
    "num_all = []\n",
    "num_x = 1\n",
    "x = int(input(\"num: \"))\n",
    "while x != 0:\n",
    "    num_all.append(x)\n",
    "    num_x += 1\n",
    "    x = int(input(\"num: \"))\n",
    "\n",
    "def find_max_min_average(num_all2):\n",
    "    i = 0\n",
    "    max = num_all2[0]\n",
    "    while i < len(num_all2):\n",
    "        if max < num_all2[i]:\n",
    "            max = num_all2[i]\n",
    "        i += 1\n",
    "\n",
    "    i = 0\n",
    "    min = num_all2[0]\n",
    "    while i < len(num_all2):\n",
    "        if min > num_all2[i]:\n",
    "            min = num_all2[i]\n",
    "        i += 1\n",
    "\n",
    "    i = 0\n",
    "    sum_num = 0\n",
    "    while i < len(num_all2):\n",
    "        sum_num += num_all2[i]\n",
    "        i += 1\n",
    "    average = sum_num / len(num_all2)\n",
    "\n",
    "    print(\"Max :\", max)\n",
    "    print(\"Min :\", min)\n",
    "    print(\"Average :\", average)\n",
    "\n",
    "def find_max_min_index(num_all2):\n",
    "    index_max = 0\n",
    "    i = 0\n",
    "    max = num_all2[0]\n",
    "    while i < len(num_all2):\n",
    "        if max < num_all2[i]:\n",
    "            index_max = i\n",
    "        i += 1\n",
    "    i = 0\n",
    "    index_min = 0\n",
    "    min = num_all2[0]\n",
    "    while i < len(num_all2):\n",
    "        if min > num_all2[i]:\n",
    "            index_min = i\n",
    "        i += 1\n",
    "\n",
    "    print(\"Index of max :\", index_max)\n",
    "    print(\"Index of min :\", index_min)\n",
    "\n",
    "def Search_value(num_all2):\n",
    "    print(\"Search for a value in an array\")\n",
    "    success = 0\n",
    "    while success == 0:\n",
    "        num_sea = int(input(\"Enter value : \"))\n",
    "        i = 0\n",
    "        while i < len(num_all2):\n",
    "            if num_sea == num_all2[i]:\n",
    "                print(\"Index of value is :\", i)\n",
    "                success: int = 1\n",
    "            i += 1\n",
    "        if success == 0:\n",
    "            print(\"The value is not found.\")\n",
    "\n",
    "def convert(num_all2):\n",
    "    i = 0\n",
    "    print(\"Convert base 10 number to binary number\")\n",
    "    while i < len(num_all2):\n",
    "        binary_number = []\n",
    "        bon = num_all2[i]\n",
    "        while bon >= 1:\n",
    "            fraction = bon % 2\n",
    "            bon = bon // 2  # New bon\n",
    "            binary_number.append(fraction)\n",
    "        k = len(binary_number) - 1\n",
    "        print(num_all2[i], \":\", end=\" \")\n",
    "        while k >= 0:\n",
    "            print(binary_number[k], end=\"\")\n",
    "            k -= 1\n",
    "        print()\n",
    "        i += 1\n",
    "\n",
    "def palindrome_check():\n",
    "    i = 0\n",
    "    word = \"\"\n",
    "    palin = \"\"\n",
    "    letter = input(\"palindrome :\")\n",
    "    word += letter\n",
    "    while i < len(word):\n",
    "        palin += word[len(word)-1-i]\n",
    "        i += 1\n",
    "\n",
    "def palindrome_check():\n",
    "    print(\"Boolean function to check whether a given string is a palindrome\")\n",
    "    i = 0\n",
    "    word = \"\"\n",
    "    palin = \"\"\n",
    "    letter = input(\"Word or Number : \")\n",
    "    word += letter\n",
    "    while i < len(word):\n",
    "        palin += word[len(word)-1-i]\n",
    "        i += 1\n",
    "    print(word == palin)\n",
    "\n",
    "find_max_min_average(num_all)\n",
    "find_max_min_index(num_all)\n",
    "Search_value(num_all)\n",
    "convert(num_all)\n",
    "palindrome_check()"
   ]
  },
  {
   "cell_type": "code",
   "execution_count": 3,
   "metadata": {},
   "outputs": [
    {
     "name": "stdout",
     "output_type": "stream",
     "text": [
      "The number of a in saddddddaaaa = 5\n"
     ]
    }
   ],
   "source": [
    "def countChar(char,string):\n",
    "    char_count = 0\n",
    "    i = 0\n",
    "    while i <len(string):\n",
    "        if char == string[i]:\n",
    "            char_count += 1\n",
    "        i += 1\n",
    "    print(\"The number of\",char,\"in\",string,\"=\",char_count)\n",
    "\n",
    "countChar(\"a\",\"saddddddaaaa\")"
   ]
  },
  {
   "cell_type": "code",
   "execution_count": 14,
   "metadata": {},
   "outputs": [
    {
     "name": "stdout",
     "output_type": "stream",
     "text": [
      "The number of vowels in labeiou = 5\n",
      "The number of a in labeiou = 1\n",
      "The number of e in labeiou = 1\n",
      "The number of i in labeiou = 1\n",
      "The number of o in labeiou = 1\n",
      "The number of u in labeiou = 1\n"
     ]
    }
   ],
   "source": [
    "def countVowels(string):\n",
    "    vowels = \"aeiou\"\n",
    "    vowels_count = 0\n",
    "    i = 0\n",
    "    while i <len(string):\n",
    "        j = 0\n",
    "        while j < len(vowels):\n",
    "            if vowels[j] == string[i]:\n",
    "                vowels_count += 1\n",
    "            j +=1\n",
    "        i += 1\n",
    "\n",
    "    print(\"The number of vowels in\",string,\"=\",vowels_count)\n",
    "\n",
    "    j = 0\n",
    "    while j < len(vowels):\n",
    "        countChar(vowels[j],string)\n",
    "        j += 1\n",
    "        \n",
    "countVowels(\"\")"
   ]
  },
  {
   "cell_type": "code",
   "execution_count": 18,
   "metadata": {},
   "outputs": [
    {
     "name": "stdout",
     "output_type": "stream",
     "text": [
      "Enter number  1 : Enter number  2 : Enter number  3 : Positive [] : 0\n",
      "Negative [-1, -2, -7] : 3\n",
      "Zero_count :  0\n"
     ]
    }
   ],
   "source": [
    "def Enter_number():\n",
    "    x = 1\n",
    "    number = []\n",
    "    total_number = int(input(\"Enter the total number : \"))\n",
    "    while x <= total_number:\n",
    "        print(\"Enter number \",x,\": \",end=\"\")\n",
    "        number.append(int(input()))\n",
    "        x += 1\n",
    "\n",
    "    i = 0\n",
    "    zero_count = 0\n",
    "    positive_count = 0\n",
    "    negative_count = 0\n",
    "    positive = []\n",
    "    negative = []\n",
    "    while i <len(number):\n",
    "        if number[i] > 0 :\n",
    "            positive.append(number[i])\n",
    "            positive_count += 1\n",
    "        if number[i] < 0 :\n",
    "            negative.append(number[i])\n",
    "            negative_count += 1\n",
    "        if number[i] == 0:\n",
    "            zero_count += 1\n",
    "        i += 1\n",
    "    print(\"Positive\",positive,\":\",positive_count)\n",
    "    print(\"Negative\",negative,\":\",negative_count)\n",
    "    print(\"Zero_count : \",zero_count)\n",
    "    \n",
    "Enter_number()"
   ]
  },
  {
   "cell_type": "code",
   "execution_count": 20,
   "metadata": {},
   "outputs": [
    {
     "name": "stdout",
     "output_type": "stream",
     "text": [
      "ลูกที่ 1\n",
      "ลูกที่ 2\n",
      "ลูกที่ 3\n",
      "น้ำหนักเฉลี่ยของทุเรียนคือ 2.0\n"
     ]
    }
   ],
   "source": [
    "def durian_aver():\n",
    "    dur_weight = []\n",
    "    i = 0\n",
    "    total_dur = int(input(\"จำนวนลูกทุเรียน : \"))\n",
    "    while i < total_dur:\n",
    "        print(\"ลูกที่\",i+1)\n",
    "        dur_weight.append(int(input(\"น้ำหนัก : \")))\n",
    "        i += 1\n",
    "\n",
    "    average = 0\n",
    "    i = 0\n",
    "    while i < total_dur:\n",
    "        average += dur_weight[i]\n",
    "        i += 1\n",
    "    print(\"น้ำหนักเฉลี่ยของทุเรียนคือ\",average/total_dur)\n",
    "durian_aver()"
   ]
  }
 ],
 "metadata": {
  "kernelspec": {
   "display_name": "Python 3.10.5 64-bit",
   "language": "python",
   "name": "python3"
  },
  "language_info": {
   "codemirror_mode": {
    "name": "ipython",
    "version": 3
   },
   "file_extension": ".py",
   "mimetype": "text/x-python",
   "name": "python",
   "nbconvert_exporter": "python",
   "pygments_lexer": "ipython3",
   "version": "3.10.5"
  },
  "orig_nbformat": 4,
  "vscode": {
   "interpreter": {
    "hash": "a42ccb73e7d9bfdf27e036f1d2b8b681e55fc0743cc5586bc2474d4a60f4b886"
   }
  }
 },
 "nbformat": 4,
 "nbformat_minor": 2
}
