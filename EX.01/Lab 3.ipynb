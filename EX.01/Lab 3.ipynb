{
 "cells": [
  {
   "cell_type": "markdown",
   "metadata": {},
   "source": []
  },
  {
   "cell_type": "code",
   "execution_count": null,
   "metadata": {},
   "outputs": [],
   "source": [
    "x = int(input(\"คะแนนที่ได้ : \"))\n",
    "if x >= 80 and x <= 100:\n",
    "                                    print(\"A\")\n",
    "else:\n",
    "      if x >= 70 and x <=79:\n",
    "                                        print(\"B\")\n",
    "      else:\n",
    "            if x >= 60 and x <=69:\n",
    "                                              print(\"C\")\n",
    "            else:\n",
    "                  if x >= 50 and x <= 59:\n",
    "                                                    print(\"D\")\n",
    "                  else:\n",
    "                        if x >= 0 and x <= 49:\n",
    "                                                          print(\"F\")"
   ]
  },
  {
   "cell_type": "markdown",
   "metadata": {},
   "source": []
  },
  {
   "cell_type": "code",
   "execution_count": null,
   "metadata": {},
   "outputs": [],
   "source": [
    "x = int(input(\"width :\"))\n",
    "y = int(input(\"length :\"))\n",
    "print(\"พื้นที่รูปสี่เหลี่ยม :\",x*y,)\n",
    "z = area\n",
    "if x>=64 and y>=75 :\n",
    "\n",
    "if x>= 15 and y>= 28 :\n",
    "\n",
    "if x>= and y>=  :"
   ]
  },
  {
   "cell_type": "markdown",
   "metadata": {},
   "source": []
  },
  {
   "cell_type": "code",
   "execution_count": null,
   "metadata": {},
   "outputs": [
    {
     "name": "stdout",
     "output_type": "stream",
     "text": [
      "Calculate Body Mass Index BMI from weight an height\n",
      "over weight.\n"
     ]
    }
   ],
   "source": [
    "print(\"Calculate Body Mass Index BMI from weight an height\")\n",
    "height = float(input(\"Enter your height in cm: \"))\n",
    "weight = float(input(\"Enter your weight in kg: \"))\n",
    "BMI = weight / (height/100)**2\n",
    "if BMI <= 18.5:\n",
    "    print(\"underweight.\")\n",
    "if BMI > 18.5 and BMI <= 24.9 :\n",
    "    print(\"healthy.\")\n",
    "if BMI >= 25.0 and BMI <= 29.9:\n",
    "    print(\"over weight.\")\n",
    "if BMI >= 30.0:\n",
    "    print(\"obese.\")\n"
   ]
  },
  {
   "cell_type": "code",
   "execution_count": null,
   "metadata": {},
   "outputs": [
    {
     "name": "stdout",
     "output_type": "stream",
     "text": [
      "Basketball\n"
     ]
    }
   ],
   "source": [
    "#Football, Basketball, Volleyball\n",
    "x = int(input(\"Football :\"))\n",
    "y = int(input(\"Basketball :\"))\n",
    "z = int(input(\"Volleyball :\"))\n",
    "if x>y and x>z:\n",
    "      print(\"Football\")\n",
    "else:\n",
    "      if y>x and y>z:\n",
    "            print(\"Basketball\")\n",
    "      else:\n",
    "            if z>y and z>x:\n",
    "                  print(\"Volleyball\")\n",
    "            \n",
    "\n",
    "\n"
   ]
  },
  {
   "cell_type": "code",
   "execution_count": 4,
   "metadata": {},
   "outputs": [
    {
     "name": "stdout",
     "output_type": "stream",
     "text": [
      "1\n"
     ]
    },
    {
     "ename": "KeyboardInterrupt",
     "evalue": "",
     "output_type": "error",
     "traceback": [
      "\u001b[1;31m---------------------------------------------------------------------------\u001b[0m",
      "\u001b[1;31mKeyboardInterrupt\u001b[0m                         Traceback (most recent call last)",
      "\u001b[1;32mc:\\Users\\Admin\\Documents\\GitHub\\TEST\\EX.01\\Lab 3.ipynb Cell 8\u001b[0m in \u001b[0;36m<cell line: 4>\u001b[1;34m()\u001b[0m\n\u001b[0;32m      <a href='vscode-notebook-cell:/c%3A/Users/Admin/Documents/GitHub/TEST/EX.01/Lab%203.ipynb#X10sZmlsZQ%3D%3D?line=2'>3</a>\u001b[0m sum_\u001b[39m=\u001b[39m\u001b[39m0\u001b[39m \n\u001b[0;32m      <a href='vscode-notebook-cell:/c%3A/Users/Admin/Documents/GitHub/TEST/EX.01/Lab%203.ipynb#X10sZmlsZQ%3D%3D?line=3'>4</a>\u001b[0m \u001b[39mwhile\u001b[39;00m( num \u001b[39m<\u001b[39m\u001b[39m=\u001b[39m \u001b[39m50\u001b[39m ):     \n\u001b[1;32m----> <a href='vscode-notebook-cell:/c%3A/Users/Admin/Documents/GitHub/TEST/EX.01/Lab%203.ipynb#X10sZmlsZQ%3D%3D?line=4'>5</a>\u001b[0m     \u001b[39mif\u001b[39;00m ( num \u001b[39m%\u001b[39;49m divisors \u001b[39m==\u001b[39;49m \u001b[39m0\u001b[39;49m):         \n\u001b[0;32m      <a href='vscode-notebook-cell:/c%3A/Users/Admin/Documents/GitHub/TEST/EX.01/Lab%203.ipynb#X10sZmlsZQ%3D%3D?line=5'>6</a>\u001b[0m         sum_ \u001b[39m=\u001b[39m sum_ \u001b[39m+\u001b[39m divisors         \n\u001b[0;32m      <a href='vscode-notebook-cell:/c%3A/Users/Admin/Documents/GitHub/TEST/EX.01/Lab%203.ipynb#X10sZmlsZQ%3D%3D?line=6'>7</a>\u001b[0m         divisors\u001b[39m+\u001b[39m\u001b[39m=\u001b[39m\u001b[39m1\u001b[39m         \n",
      "\u001b[1;31mKeyboardInterrupt\u001b[0m: "
     ]
    }
   ],
   "source": [
    "num = 1 \n",
    "divisors = 1 \n",
    "sum_=0 \n",
    "while( num <= 50 ):     \n",
    "    if ( num % divisors == 0):         \n",
    "        sum_ = sum_ + divisors         \n",
    "        divisors+=1         \n",
    "        if sum_ == num :             \n",
    "            print(num)"
   ]
  }
 ],
 "metadata": {
  "kernelspec": {
   "display_name": "Python 3.10.5 64-bit",
   "language": "python",
   "name": "python3"
  },
  "language_info": {
   "codemirror_mode": {
    "name": "ipython",
    "version": 3
   },
   "file_extension": ".py",
   "mimetype": "text/x-python",
   "name": "python",
   "nbconvert_exporter": "python",
   "pygments_lexer": "ipython3",
   "version": "3.10.5"
  },
  "orig_nbformat": 4,
  "vscode": {
   "interpreter": {
    "hash": "a42ccb73e7d9bfdf27e036f1d2b8b681e55fc0743cc5586bc2474d4a60f4b886"
   }
  }
 },
 "nbformat": 4,
 "nbformat_minor": 2
}
